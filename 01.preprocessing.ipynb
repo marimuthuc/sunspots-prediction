{
 "cells": [
  {
   "cell_type": "code",
   "execution_count": 24,
   "metadata": {},
   "outputs": [],
   "source": [
    "import pandas as pd\n",
    "import matplotlib.pyplot as plt"
   ]
  },
  {
   "cell_type": "code",
   "execution_count": 5,
   "metadata": {},
   "outputs": [],
   "source": [
    "sunspot_data = pd.read_csv('dataset/sunspot_data.csv', index_col=0)"
   ]
  },
  {
   "cell_type": "code",
   "execution_count": 6,
   "metadata": {},
   "outputs": [
    {
     "name": "stdout",
     "output_type": "stream",
     "text": [
      "<class 'pandas.core.frame.DataFrame'>\n",
      "Index: 73718 entries, 0 to 73717\n",
      "Data columns (total 8 columns):\n",
      " #   Column                    Non-Null Count  Dtype  \n",
      "---  ------                    --------------  -----  \n",
      " 0   Year                      73718 non-null  int64  \n",
      " 1   Month                     73718 non-null  int64  \n",
      " 2   Day                       73718 non-null  int64  \n",
      " 3   Date In Fraction Of Year  73718 non-null  float64\n",
      " 4   Number of Sunspots        73718 non-null  int64  \n",
      " 5   Standard Deviation        73718 non-null  float64\n",
      " 6   Observations              73718 non-null  int64  \n",
      " 7   Indicator                 73718 non-null  int64  \n",
      "dtypes: float64(2), int64(6)\n",
      "memory usage: 5.1 MB\n"
     ]
    }
   ],
   "source": [
    "sunspot_data.info()"
   ]
  },
  {
   "cell_type": "code",
   "execution_count": 12,
   "metadata": {},
   "outputs": [],
   "source": [
    "sunspot_data = sunspot_data.astype({'Year': 'string', 'Month': 'string', 'Day': 'string'})"
   ]
  },
  {
   "cell_type": "code",
   "execution_count": 13,
   "metadata": {},
   "outputs": [
    {
     "name": "stdout",
     "output_type": "stream",
     "text": [
      "<class 'pandas.core.frame.DataFrame'>\n",
      "Index: 73718 entries, 0 to 73717\n",
      "Data columns (total 8 columns):\n",
      " #   Column                    Non-Null Count  Dtype  \n",
      "---  ------                    --------------  -----  \n",
      " 0   Year                      73718 non-null  string \n",
      " 1   Month                     73718 non-null  string \n",
      " 2   Day                       73718 non-null  string \n",
      " 3   Date In Fraction Of Year  73718 non-null  float64\n",
      " 4   Number of Sunspots        73718 non-null  int64  \n",
      " 5   Standard Deviation        73718 non-null  float64\n",
      " 6   Observations              73718 non-null  int64  \n",
      " 7   Indicator                 73718 non-null  int64  \n",
      "dtypes: float64(2), int64(3), string(3)\n",
      "memory usage: 5.1 MB\n"
     ]
    }
   ],
   "source": [
    "sunspot_data.info()"
   ]
  },
  {
   "cell_type": "code",
   "execution_count": 14,
   "metadata": {},
   "outputs": [
    {
     "data": {
      "text/html": [
       "<div>\n",
       "<style scoped>\n",
       "    .dataframe tbody tr th:only-of-type {\n",
       "        vertical-align: middle;\n",
       "    }\n",
       "\n",
       "    .dataframe tbody tr th {\n",
       "        vertical-align: top;\n",
       "    }\n",
       "\n",
       "    .dataframe thead th {\n",
       "        text-align: right;\n",
       "    }\n",
       "</style>\n",
       "<table border=\"1\" class=\"dataframe\">\n",
       "  <thead>\n",
       "    <tr style=\"text-align: right;\">\n",
       "      <th></th>\n",
       "      <th>Year</th>\n",
       "      <th>Month</th>\n",
       "      <th>Day</th>\n",
       "      <th>Date In Fraction Of Year</th>\n",
       "      <th>Number of Sunspots</th>\n",
       "      <th>Standard Deviation</th>\n",
       "      <th>Observations</th>\n",
       "      <th>Indicator</th>\n",
       "    </tr>\n",
       "  </thead>\n",
       "  <tbody>\n",
       "    <tr>\n",
       "      <th>0</th>\n",
       "      <td>1818</td>\n",
       "      <td>1</td>\n",
       "      <td>1</td>\n",
       "      <td>1818.001</td>\n",
       "      <td>-1</td>\n",
       "      <td>-1.0</td>\n",
       "      <td>0</td>\n",
       "      <td>1</td>\n",
       "    </tr>\n",
       "    <tr>\n",
       "      <th>1</th>\n",
       "      <td>1818</td>\n",
       "      <td>1</td>\n",
       "      <td>2</td>\n",
       "      <td>1818.004</td>\n",
       "      <td>-1</td>\n",
       "      <td>-1.0</td>\n",
       "      <td>0</td>\n",
       "      <td>1</td>\n",
       "    </tr>\n",
       "    <tr>\n",
       "      <th>2</th>\n",
       "      <td>1818</td>\n",
       "      <td>1</td>\n",
       "      <td>3</td>\n",
       "      <td>1818.007</td>\n",
       "      <td>-1</td>\n",
       "      <td>-1.0</td>\n",
       "      <td>0</td>\n",
       "      <td>1</td>\n",
       "    </tr>\n",
       "    <tr>\n",
       "      <th>3</th>\n",
       "      <td>1818</td>\n",
       "      <td>1</td>\n",
       "      <td>4</td>\n",
       "      <td>1818.010</td>\n",
       "      <td>-1</td>\n",
       "      <td>-1.0</td>\n",
       "      <td>0</td>\n",
       "      <td>1</td>\n",
       "    </tr>\n",
       "    <tr>\n",
       "      <th>4</th>\n",
       "      <td>1818</td>\n",
       "      <td>1</td>\n",
       "      <td>5</td>\n",
       "      <td>1818.012</td>\n",
       "      <td>-1</td>\n",
       "      <td>-1.0</td>\n",
       "      <td>0</td>\n",
       "      <td>1</td>\n",
       "    </tr>\n",
       "  </tbody>\n",
       "</table>\n",
       "</div>"
      ],
      "text/plain": [
       "   Year Month Day  Date In Fraction Of Year  Number of Sunspots  \\\n",
       "0  1818     1   1                  1818.001                  -1   \n",
       "1  1818     1   2                  1818.004                  -1   \n",
       "2  1818     1   3                  1818.007                  -1   \n",
       "3  1818     1   4                  1818.010                  -1   \n",
       "4  1818     1   5                  1818.012                  -1   \n",
       "\n",
       "   Standard Deviation  Observations  Indicator  \n",
       "0                -1.0             0          1  \n",
       "1                -1.0             0          1  \n",
       "2                -1.0             0          1  \n",
       "3                -1.0             0          1  \n",
       "4                -1.0             0          1  "
      ]
     },
     "execution_count": 14,
     "metadata": {},
     "output_type": "execute_result"
    }
   ],
   "source": [
    "sunspot_data.head()"
   ]
  },
  {
   "cell_type": "code",
   "execution_count": 17,
   "metadata": {},
   "outputs": [],
   "source": [
    "sunspot_data['date_time'] = pd.to_datetime(sunspot_data[\"Year\"] + \"/\" + sunspot_data[\"Month\"] + \"/\" + sunspot_data[\"Day\"])"
   ]
  },
  {
   "cell_type": "code",
   "execution_count": 18,
   "metadata": {},
   "outputs": [
    {
     "name": "stdout",
     "output_type": "stream",
     "text": [
      "<class 'pandas.core.frame.DataFrame'>\n",
      "Index: 73718 entries, 0 to 73717\n",
      "Data columns (total 9 columns):\n",
      " #   Column                    Non-Null Count  Dtype         \n",
      "---  ------                    --------------  -----         \n",
      " 0   Year                      73718 non-null  string        \n",
      " 1   Month                     73718 non-null  string        \n",
      " 2   Day                       73718 non-null  string        \n",
      " 3   Date In Fraction Of Year  73718 non-null  float64       \n",
      " 4   Number of Sunspots        73718 non-null  int64         \n",
      " 5   Standard Deviation        73718 non-null  float64       \n",
      " 6   Observations              73718 non-null  int64         \n",
      " 7   Indicator                 73718 non-null  int64         \n",
      " 8   date_time                 73718 non-null  datetime64[ns]\n",
      "dtypes: datetime64[ns](1), float64(2), int64(3), string(3)\n",
      "memory usage: 5.6 MB\n"
     ]
    }
   ],
   "source": [
    "sunspot_data.info()"
   ]
  },
  {
   "cell_type": "code",
   "execution_count": 22,
   "metadata": {},
   "outputs": [],
   "source": [
    "sunspot_data = sunspot_data.set_index(['date_time'])"
   ]
  },
  {
   "cell_type": "code",
   "execution_count": 23,
   "metadata": {},
   "outputs": [
    {
     "name": "stdout",
     "output_type": "stream",
     "text": [
      "<class 'pandas.core.frame.DataFrame'>\n",
      "DatetimeIndex: 73718 entries, 1818-01-01 to 2019-10-31\n",
      "Data columns (total 8 columns):\n",
      " #   Column                    Non-Null Count  Dtype  \n",
      "---  ------                    --------------  -----  \n",
      " 0   Year                      73718 non-null  string \n",
      " 1   Month                     73718 non-null  string \n",
      " 2   Day                       73718 non-null  string \n",
      " 3   Date In Fraction Of Year  73718 non-null  float64\n",
      " 4   Number of Sunspots        73718 non-null  int64  \n",
      " 5   Standard Deviation        73718 non-null  float64\n",
      " 6   Observations              73718 non-null  int64  \n",
      " 7   Indicator                 73718 non-null  int64  \n",
      "dtypes: float64(2), int64(3), string(3)\n",
      "memory usage: 5.1 MB\n"
     ]
    }
   ],
   "source": [
    "sunspot_data.info()"
   ]
  },
  {
   "cell_type": "code",
   "execution_count": 27,
   "metadata": {},
   "outputs": [
    {
     "data": {
      "text/plain": [
       "Text(0, 0.5, 'Number of Sunspots')"
      ]
     },
     "execution_count": 27,
     "metadata": {},
     "output_type": "execute_result"
    },
    {
     "data": {
      "image/png": "[encoded data removed]",
      "text/plain": [
       "<Figure size 640x480 with 1 Axes>"
      ]
     },
     "metadata": {},
     "output_type": "display_data"
    }
   ],
   "source": [
    "plt.plot(sunspot_data['Number of Sunspots'])\n",
    "plt.xlabel('Time')\n",
    "plt.ylabel('Number of Sunspots')"
   ]
  },
  {
   "cell_type": "code",
   "execution_count": null,
   "metadata": {},
   "outputs": [],
   "source": []
  }
 ],
 "metadata": {
  "kernelspec": {
   "display_name": "Python 3",
   "language": "python",
   "name": "python3"
  },
  "language_info": {
   "codemirror_mode": {
    "name": "ipython",
    "version": 3
   },
   "file_extension": ".py",
   "mimetype": "text/x-python",
   "name": "python",
   "nbconvert_exporter": "python",
   "pygments_lexer": "ipython3",
   "version": "3.10.11"
  },
  "orig_nbformat": 4
 },
 "nbformat": 4,
 "nbformat_minor": 2
}
